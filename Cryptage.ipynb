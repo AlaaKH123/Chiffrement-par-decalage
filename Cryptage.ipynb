{
 "cells": [
  {
   "cell_type": "code",
   "execution_count": 1,
   "id": "6e24008e",
   "metadata": {},
   "outputs": [],
   "source": [
    "import random "
   ]
  },
  {
   "cell_type": "code",
   "execution_count": 2,
   "id": "156c87b5",
   "metadata": {},
   "outputs": [],
   "source": [
    "phrase_a_1 = \"I woke up early this morning to watch the sunrise\"\n",
    "phrase_a_2 = \"Can you pass me the salt, please?\"\n",
    "phrase_a_3 = \"She played the piano beautifully at the concert last night\"\n",
    "phrase_a_4 = \"I love going for a run in the park on a sunny day\"\n",
    "phrase_a_5 = \"Have you ever tried sushi? It's one of my favorite foods\"\n",
    "phrase_a_6 = \"The traffic on the highway was terrible this morning\"\n",
    "\n",
    "phrase_f_1 = \"J'ai passé une excellente soirée avec mes amis hier soir\"\n",
    "phrase_f_2 = \"Le chat dort paisiblement sur le canapé\"\n",
    "phrase_f_3 = \"Je dois me dépêcher si je veux attraper mon train à l'heure\"\n",
    "phrase_f_4 = \"Elle a préparé un délicieux gâteau au chocolat pour l'anniversaire de son frère\"\n",
    "phrase_f_5 = \"Il fait un froid glacial dehors aujourd'hui\"\n",
    "phrase_f_6 = \"Nous avons visité plusieurs musées intéressants pendant notre voyage en Europe\""
   ]
  },
  {
   "cell_type": "code",
   "execution_count": 3,
   "id": "2776b4c5",
   "metadata": {},
   "outputs": [],
   "source": [
    "dataset_anglais = [phrase_a_1,phrase_a_2,phrase_a_3,phrase_a_4,phrase_a_5,phrase_a_6]\n",
    "dataset_francais = [phrase_f_1,phrase_f_2,phrase_f_3,phrase_f_4,phrase_f_5,phrase_f_6]"
   ]
  },
  {
   "cell_type": "code",
   "execution_count": 4,
   "id": "3d5b6611",
   "metadata": {},
   "outputs": [],
   "source": [
    "# ___________________________________Fonction permettant de chiffrer un texte en clair_________________________________________\n",
    "\n",
    "# Argument 1 : le texte clair\n",
    "# Argument 2 : la clef de chiffrage\n",
    "# Retour     : le texte chiffré\n",
    "\n",
    "def chiffre(texte_clair,clef):\n",
    "    texte_chiffre = ''\n",
    "    # la variable pos contient l'index (la position) dans le texte clair\n",
    "    pos = 0\n",
    "    # la variable dec contient l'incrément négatif lorsque la longueur du texte clair est atteinte\n",
    "    dec = 0\n",
    "    # la variable pos_c contient l'index (la position) dans le texte chiffré\n",
    "    pos_c = 0\n",
    "    # la variable l contient la longueur du texte clair\n",
    "    l = len(texte_clair)\n",
    "    for pos in range(l):\n",
    "        if (pos_c > l-1):\n",
    "            dec += 1\n",
    "            pos_c = dec\n",
    "        texte_chiffre += texte_clair[pos_c]\n",
    "        pos_c = pos_c + clef\n",
    "    return texte_chiffre   "
   ]
  },
  {
   "cell_type": "code",
   "execution_count": 5,
   "id": "a4bd3be8",
   "metadata": {},
   "outputs": [],
   "source": [
    "# __________________________________Fonction permettant de déchiffrer un texte crypté ____________________________________\n",
    "\n",
    "# Argument 1 : le texte crypté\n",
    "# Argument 2 : la clef de chiffrage\n",
    "# Retour     : le texte déchiffré\n",
    "\n",
    "def dechiffre(texte_chiffre,clef):\n",
    "    # la variable l contient la longueur du texte chiffré\n",
    "    l = len(texte_chiffre)\n",
    "    # la variable pos continent l'index (la position) dans le texte chiffré\n",
    "    pos = 0\n",
    "    # la varibale pos_c contient l'index (la position) dans le texte clair\n",
    "    pos_c = 0\n",
    "    # la variable dec contient la valeur de l'incrément positif\n",
    "    dec = 0\n",
    "    # la variable ret est une liste de longueur l qui est vide et que l'on va remplir avec les lettre du texte chiffré\n",
    "    ret = ['' for _ in range(l)]\n",
    "    for pos in range(l):\n",
    "        if (pos_c > l-1):\n",
    "            dec += 1\n",
    "            pos_c = dec\n",
    "        ret[pos_c] = texte_chiffre[pos]\n",
    "        pos_c = pos_c + clef\n",
    "    # on retourne une chaîne de caractères (''.join(ret) retourne la transformation de la liste en chaîne de caractères)\n",
    "    return ''.join(ret)"
   ]
  },
  {
   "cell_type": "code",
   "execution_count": 6,
   "id": "87cbedd1",
   "metadata": {},
   "outputs": [],
   "source": [
    "#__________________________Fonction permettant de retourner la langue d'un texte donné en paramètre _______________________\n",
    "\n",
    "# sur la base d'une analyse de certains mots clefs\n",
    "# La liste des mots clefs est basée sur les classements internationaux (comme COCA)\n",
    "# Argument 1 : le texte clair\n",
    "# Retour     : la langue possible\n",
    "\n",
    "def analyse_langue(texte):\n",
    "    mots_clefs_f = ['le','la','les','un','une','de','des','il','elle','et','non','est','on','vous','nous','se','pas','leur']\n",
    "    mots_clefs_a = ['the','be','to','of','and','in','that','have','it','for','not','is','if']\n",
    "    retour = ['',0]\n",
    "    l = len(texte)\n",
    "    nbr_f = 0\n",
    "    nbr_a = 0\n",
    "    for mot_clef in mots_clefs_f:\n",
    "        for i in range(l):\n",
    "            if texte.startswith(mot_clef,i):\n",
    "                nbr_f += 1\n",
    "#        [i for i in range(len(string)) if string.startswith('test', i)]\n",
    "#        if (texte.find(mot_clef) != -1):\n",
    "#            nbr_f += 1\n",
    "\n",
    "    for mot_clef in mots_clefs_a:\n",
    "        for i in range(l):\n",
    "            if texte.startswith(mot_clef,i):\n",
    "                nbr_a += 1\n",
    "#        if (texte.find(mot_clef) != -1):\n",
    "#            nbr_a += 1\n",
    "\n",
    "    if nbr_f == 0 and nbr_a == 0:\n",
    "        retour = ['NULL',0]\n",
    "    elif nbr_f > nbr_a:\n",
    "        retour = ['FRA ',nbr_f]\n",
    "    else:\n",
    "        retour = ['ENG ',nbr_a]\n",
    "\n",
    "    return retour\n",
    "\n"
   ]
  },
  {
   "cell_type": "code",
   "execution_count": 7,
   "id": "b3d8c858",
   "metadata": {},
   "outputs": [
    {
     "name": "stdout",
     "output_type": "stream",
     "text": [
      "J snxlei csiis'péece ra  seoaa  ensévma riisueltoeeemh r\n"
     ]
    }
   ],
   "source": [
    "texte_clair_1 = phrase_f_1\n",
    "texte_chiffre_1 = chiffre(texte_clair_1,4)\n",
    "print(texte_chiffre_1)"
   ]
  },
  {
   "cell_type": "code",
   "execution_count": 8,
   "id": "2b43853e",
   "metadata": {},
   "outputs": [
    {
     "data": {
      "text/plain": [
       "\"J'ai passé une excellente soirée avec mes amis hier soir\""
      ]
     },
     "execution_count": 8,
     "metadata": {},
     "output_type": "execute_result"
    }
   ],
   "source": [
    "dechiffre(texte_chiffre_1,4)"
   ]
  },
  {
   "cell_type": "code",
   "execution_count": 9,
   "id": "39eb3dc0",
   "metadata": {},
   "outputs": [
    {
     "data": {
      "text/plain": [
       "['FRA ', 5]"
      ]
     },
     "execution_count": 9,
     "metadata": {},
     "output_type": "execute_result"
    }
   ],
   "source": [
    "analyse_langue(texte_clair_1)"
   ]
  },
  {
   "cell_type": "code",
   "execution_count": 10,
   "id": "4f7986e1",
   "metadata": {},
   "outputs": [
    {
     "name": "stdout",
     "output_type": "stream",
     "text": [
      "Ie oe am  wrowsolraukyntne icr tnhiuhg spi te sth\n"
     ]
    }
   ],
   "source": [
    "texte_clair_2 = phrase_a_1\n",
    "texte_chiffre_2 = chiffre(texte_clair_2,10)\n",
    "print(texte_chiffre_2)"
   ]
  },
  {
   "cell_type": "code",
   "execution_count": 11,
   "id": "18905548",
   "metadata": {},
   "outputs": [
    {
     "data": {
      "text/plain": [
       "'I woke up early this morning to watch the sunrise'"
      ]
     },
     "execution_count": 11,
     "metadata": {},
     "output_type": "execute_result"
    }
   ],
   "source": [
    "dechiffre(texte_chiffre_2,10)"
   ]
  },
  {
   "cell_type": "code",
   "execution_count": 12,
   "id": "94fa7c97",
   "metadata": {},
   "outputs": [
    {
     "data": {
      "text/plain": [
       "['ENG ', 5]"
      ]
     },
     "execution_count": 12,
     "metadata": {},
     "output_type": "execute_result"
    }
   ],
   "source": [
    "analyse_langue(texte_clair_2)"
   ]
  }
 ],
 "metadata": {
  "kernelspec": {
   "display_name": "Python 3 (ipykernel)",
   "language": "python",
   "name": "python3"
  },
  "language_info": {
   "codemirror_mode": {
    "name": "ipython",
    "version": 3
   },
   "file_extension": ".py",
   "mimetype": "text/x-python",
   "name": "python",
   "nbconvert_exporter": "python",
   "pygments_lexer": "ipython3",
   "version": "3.9.13"
  }
 },
 "nbformat": 4,
 "nbformat_minor": 5
}
